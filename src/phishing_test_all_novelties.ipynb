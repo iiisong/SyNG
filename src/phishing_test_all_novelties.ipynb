{
  "cells": [
    {
      "cell_type": "code",
      "source": [
        "!pip install river"
      ],
      "metadata": {
        "colab": {
          "base_uri": "https://localhost:8080/"
        },
        "id": "ZAQZcoKaoYSo",
        "outputId": "0fcc342a-e21e-418c-c6e4-53405d82830d"
      },
      "execution_count": 2,
      "outputs": [
        {
          "output_type": "stream",
          "name": "stdout",
          "text": [
            "Collecting river\n",
            "  Downloading river-0.22.0-cp311-cp311-manylinux_2_17_x86_64.manylinux2014_x86_64.whl.metadata (9.0 kB)\n",
            "Requirement already satisfied: numpy>=1.23.0 in /usr/local/lib/python3.11/dist-packages (from river) (2.0.2)\n",
            "Collecting pandas<3.0.0,>=2.2.3 (from river)\n",
            "  Downloading pandas-2.2.3-cp311-cp311-manylinux_2_17_x86_64.manylinux2014_x86_64.whl.metadata (89 kB)\n",
            "\u001b[2K     \u001b[90m━━━━━━━━━━━━━━━━━━━━━━━━━━━━━━━━━━━━━━━━\u001b[0m \u001b[32m89.9/89.9 kB\u001b[0m \u001b[31m2.1 MB/s\u001b[0m eta \u001b[36m0:00:00\u001b[0m\n",
            "\u001b[?25hRequirement already satisfied: scipy<2.0.0,>=1.14.1 in /usr/local/lib/python3.11/dist-packages (from river) (1.14.1)\n",
            "Requirement already satisfied: python-dateutil>=2.8.2 in /usr/local/lib/python3.11/dist-packages (from pandas<3.0.0,>=2.2.3->river) (2.8.2)\n",
            "Requirement already satisfied: pytz>=2020.1 in /usr/local/lib/python3.11/dist-packages (from pandas<3.0.0,>=2.2.3->river) (2025.2)\n",
            "Requirement already satisfied: tzdata>=2022.7 in /usr/local/lib/python3.11/dist-packages (from pandas<3.0.0,>=2.2.3->river) (2025.2)\n",
            "Requirement already satisfied: six>=1.5 in /usr/local/lib/python3.11/dist-packages (from python-dateutil>=2.8.2->pandas<3.0.0,>=2.2.3->river) (1.17.0)\n",
            "Downloading river-0.22.0-cp311-cp311-manylinux_2_17_x86_64.manylinux2014_x86_64.whl (3.2 MB)\n",
            "\u001b[2K   \u001b[90m━━━━━━━━━━━━━━━━━━━━━━━━━━━━━━━━━━━━━━━━\u001b[0m \u001b[32m3.2/3.2 MB\u001b[0m \u001b[31m35.6 MB/s\u001b[0m eta \u001b[36m0:00:00\u001b[0m\n",
            "\u001b[?25hDownloading pandas-2.2.3-cp311-cp311-manylinux_2_17_x86_64.manylinux2014_x86_64.whl (13.1 MB)\n",
            "\u001b[2K   \u001b[90m━━━━━━━━━━━━━━━━━━━━━━━━━━━━━━━━━━━━━━━━\u001b[0m \u001b[32m13.1/13.1 MB\u001b[0m \u001b[31m65.9 MB/s\u001b[0m eta \u001b[36m0:00:00\u001b[0m\n",
            "\u001b[?25hInstalling collected packages: pandas, river\n",
            "  Attempting uninstall: pandas\n",
            "    Found existing installation: pandas 2.2.2\n",
            "    Uninstalling pandas-2.2.2:\n",
            "      Successfully uninstalled pandas-2.2.2\n",
            "\u001b[31mERROR: pip's dependency resolver does not currently take into account all the packages that are installed. This behaviour is the source of the following dependency conflicts.\n",
            "google-colab 1.0.0 requires pandas==2.2.2, but you have pandas 2.2.3 which is incompatible.\u001b[0m\u001b[31m\n",
            "\u001b[0mSuccessfully installed pandas-2.2.3 river-0.22.0\n"
          ]
        }
      ]
    },
    {
      "cell_type": "code",
      "execution_count": 46,
      "metadata": {
        "id": "4voGcn7_aAzE",
        "colab": {
          "base_uri": "https://localhost:8080/"
        },
        "outputId": "54f5faaa-5972-4cff-cfbd-ce684a310445"
      },
      "outputs": [
        {
          "output_type": "stream",
          "name": "stdout",
          "text": [
            "The autoreload extension is already loaded. To reload it, use:\n",
            "  %reload_ext autoreload\n"
          ]
        }
      ],
      "source": [
        "\n",
        "\n",
        "from river.datasets import Phishing\n",
        "import pandas as pd\n",
        "import numpy as np\n",
        "from utils import plot_drift\n",
        "from novelty import ephemeral, persistant, periodic, degenerate\n",
        "\n",
        "from river import datasets\n",
        "from river import ensemble\n",
        "from river import evaluate\n",
        "from river import linear_model\n",
        "from river import metrics\n",
        "from river import optim\n",
        "from river import preprocessing\n",
        "\n",
        "\n",
        "from drift import detect_drift\n",
        "\n",
        "%load_ext autoreload\n",
        "%autoreload 2"
      ]
    },
    {
      "cell_type": "code",
      "execution_count": 6,
      "metadata": {
        "id": "W9MC1nf3aAzI",
        "outputId": "151671d5-87df-4b67-ca55-f2b008ef6675",
        "colab": {
          "base_uri": "https://localhost:8080/"
        }
      },
      "outputs": [
        {
          "output_type": "execute_result",
          "data": {
            "text/plain": [
              "[({'empty_server_form_handler': 0.0,\n",
              "   'popup_window': 0.0,\n",
              "   'https': 0.0,\n",
              "   'request_from_other_domain': 0.0,\n",
              "   'anchor_from_other_domain': 0.0,\n",
              "   'is_popular': 0.5,\n",
              "   'long_url': 1.0,\n",
              "   'age_of_domain': 1,\n",
              "   'ip_in_url': 1},\n",
              "  True),\n",
              " ({'empty_server_form_handler': 1.0,\n",
              "   'popup_window': 0.0,\n",
              "   'https': 0.5,\n",
              "   'request_from_other_domain': 0.5,\n",
              "   'anchor_from_other_domain': 0.0,\n",
              "   'is_popular': 0.5,\n",
              "   'long_url': 0.0,\n",
              "   'age_of_domain': 1,\n",
              "   'ip_in_url': 0},\n",
              "  True)]"
            ]
          },
          "metadata": {},
          "execution_count": 6
        }
      ],
      "source": [
        "phishing = Phishing()\n",
        "list(phishing.take(2))"
      ]
    },
    {
      "cell_type": "code",
      "execution_count": 8,
      "metadata": {
        "id": "Bquv741_aAzJ"
      },
      "outputs": [],
      "source": [
        "def dataset_to_df(dataset, count=None):\n",
        "    if not count:\n",
        "        count = len(list(dataset))\n",
        "    data_list = [{**x, 'value': y} for x, y in dataset.take(count)]\n",
        "    return pd.DataFrame(data_list)\n",
        "\n",
        "def df_to_dataset(df):\n",
        "    df_nonvalue = df.loc[:, df.columns != 'value']\n",
        "    df_value = df['value']\n",
        "    return list(zip(df_nonvalue.to_dict(orient='records'), df_value.to_list()))"
      ]
    },
    {
      "cell_type": "code",
      "execution_count": 9,
      "metadata": {
        "id": "45NjKVOqaAzK",
        "outputId": "195885cd-40e6-4ae1-c4dd-177859cbd73b",
        "colab": {
          "base_uri": "https://localhost:8080/",
          "height": 443
        }
      },
      "outputs": [
        {
          "output_type": "execute_result",
          "data": {
            "text/plain": [
              "      empty_server_form_handler  popup_window  https  \\\n",
              "0                           0.0           0.0    0.0   \n",
              "1                           1.0           0.0    0.5   \n",
              "2                           0.0           0.0    1.0   \n",
              "3                           0.0           0.0    1.0   \n",
              "4                           1.0           0.0    0.5   \n",
              "...                         ...           ...    ...   \n",
              "1245                        0.0           0.0    0.0   \n",
              "1246                        0.0           0.5    1.0   \n",
              "1247                        0.0           0.5    0.0   \n",
              "1248                        0.5           0.5    1.0   \n",
              "1249                        1.0           0.5    1.0   \n",
              "\n",
              "      request_from_other_domain  anchor_from_other_domain  is_popular  \\\n",
              "0                           0.0                       0.0         0.5   \n",
              "1                           0.5                       0.0         0.5   \n",
              "2                           0.0                       0.5         0.5   \n",
              "3                           0.0                       0.0         1.0   \n",
              "4                           1.0                       0.0         0.5   \n",
              "...                         ...                       ...         ...   \n",
              "1245                        0.0                       0.0         0.0   \n",
              "1246                        0.5                       0.0         0.5   \n",
              "1247                        0.0                       0.0         0.5   \n",
              "1248                        0.5                       0.5         0.5   \n",
              "1249                        1.0                       1.0         0.5   \n",
              "\n",
              "      long_url  age_of_domain  ip_in_url  value  \n",
              "0          1.0              1          1   True  \n",
              "1          0.0              1          0   True  \n",
              "2          0.0              1          0   True  \n",
              "3          0.5              0          0   True  \n",
              "4          0.5              1          0  False  \n",
              "...        ...            ...        ...    ...  \n",
              "1245       0.5              1          0   True  \n",
              "1246       0.5              1          0  False  \n",
              "1247       0.0              0          0   True  \n",
              "1248       0.0              1          0   True  \n",
              "1249       0.0              0          0  False  \n",
              "\n",
              "[1250 rows x 10 columns]"
            ],
            "text/html": [
              "\n",
              "  <div id=\"df-eb3b8790-e58d-48ee-a2fe-6c1c867e3ec0\" class=\"colab-df-container\">\n",
              "    <div>\n",
              "<style scoped>\n",
              "    .dataframe tbody tr th:only-of-type {\n",
              "        vertical-align: middle;\n",
              "    }\n",
              "\n",
              "    .dataframe tbody tr th {\n",
              "        vertical-align: top;\n",
              "    }\n",
              "\n",
              "    .dataframe thead th {\n",
              "        text-align: right;\n",
              "    }\n",
              "</style>\n",
              "<table border=\"1\" class=\"dataframe\">\n",
              "  <thead>\n",
              "    <tr style=\"text-align: right;\">\n",
              "      <th></th>\n",
              "      <th>empty_server_form_handler</th>\n",
              "      <th>popup_window</th>\n",
              "      <th>https</th>\n",
              "      <th>request_from_other_domain</th>\n",
              "      <th>anchor_from_other_domain</th>\n",
              "      <th>is_popular</th>\n",
              "      <th>long_url</th>\n",
              "      <th>age_of_domain</th>\n",
              "      <th>ip_in_url</th>\n",
              "      <th>value</th>\n",
              "    </tr>\n",
              "  </thead>\n",
              "  <tbody>\n",
              "    <tr>\n",
              "      <th>0</th>\n",
              "      <td>0.0</td>\n",
              "      <td>0.0</td>\n",
              "      <td>0.0</td>\n",
              "      <td>0.0</td>\n",
              "      <td>0.0</td>\n",
              "      <td>0.5</td>\n",
              "      <td>1.0</td>\n",
              "      <td>1</td>\n",
              "      <td>1</td>\n",
              "      <td>True</td>\n",
              "    </tr>\n",
              "    <tr>\n",
              "      <th>1</th>\n",
              "      <td>1.0</td>\n",
              "      <td>0.0</td>\n",
              "      <td>0.5</td>\n",
              "      <td>0.5</td>\n",
              "      <td>0.0</td>\n",
              "      <td>0.5</td>\n",
              "      <td>0.0</td>\n",
              "      <td>1</td>\n",
              "      <td>0</td>\n",
              "      <td>True</td>\n",
              "    </tr>\n",
              "    <tr>\n",
              "      <th>2</th>\n",
              "      <td>0.0</td>\n",
              "      <td>0.0</td>\n",
              "      <td>1.0</td>\n",
              "      <td>0.0</td>\n",
              "      <td>0.5</td>\n",
              "      <td>0.5</td>\n",
              "      <td>0.0</td>\n",
              "      <td>1</td>\n",
              "      <td>0</td>\n",
              "      <td>True</td>\n",
              "    </tr>\n",
              "    <tr>\n",
              "      <th>3</th>\n",
              "      <td>0.0</td>\n",
              "      <td>0.0</td>\n",
              "      <td>1.0</td>\n",
              "      <td>0.0</td>\n",
              "      <td>0.0</td>\n",
              "      <td>1.0</td>\n",
              "      <td>0.5</td>\n",
              "      <td>0</td>\n",
              "      <td>0</td>\n",
              "      <td>True</td>\n",
              "    </tr>\n",
              "    <tr>\n",
              "      <th>4</th>\n",
              "      <td>1.0</td>\n",
              "      <td>0.0</td>\n",
              "      <td>0.5</td>\n",
              "      <td>1.0</td>\n",
              "      <td>0.0</td>\n",
              "      <td>0.5</td>\n",
              "      <td>0.5</td>\n",
              "      <td>1</td>\n",
              "      <td>0</td>\n",
              "      <td>False</td>\n",
              "    </tr>\n",
              "    <tr>\n",
              "      <th>...</th>\n",
              "      <td>...</td>\n",
              "      <td>...</td>\n",
              "      <td>...</td>\n",
              "      <td>...</td>\n",
              "      <td>...</td>\n",
              "      <td>...</td>\n",
              "      <td>...</td>\n",
              "      <td>...</td>\n",
              "      <td>...</td>\n",
              "      <td>...</td>\n",
              "    </tr>\n",
              "    <tr>\n",
              "      <th>1245</th>\n",
              "      <td>0.0</td>\n",
              "      <td>0.0</td>\n",
              "      <td>0.0</td>\n",
              "      <td>0.0</td>\n",
              "      <td>0.0</td>\n",
              "      <td>0.0</td>\n",
              "      <td>0.5</td>\n",
              "      <td>1</td>\n",
              "      <td>0</td>\n",
              "      <td>True</td>\n",
              "    </tr>\n",
              "    <tr>\n",
              "      <th>1246</th>\n",
              "      <td>0.0</td>\n",
              "      <td>0.5</td>\n",
              "      <td>1.0</td>\n",
              "      <td>0.5</td>\n",
              "      <td>0.0</td>\n",
              "      <td>0.5</td>\n",
              "      <td>0.5</td>\n",
              "      <td>1</td>\n",
              "      <td>0</td>\n",
              "      <td>False</td>\n",
              "    </tr>\n",
              "    <tr>\n",
              "      <th>1247</th>\n",
              "      <td>0.0</td>\n",
              "      <td>0.5</td>\n",
              "      <td>0.0</td>\n",
              "      <td>0.0</td>\n",
              "      <td>0.0</td>\n",
              "      <td>0.5</td>\n",
              "      <td>0.0</td>\n",
              "      <td>0</td>\n",
              "      <td>0</td>\n",
              "      <td>True</td>\n",
              "    </tr>\n",
              "    <tr>\n",
              "      <th>1248</th>\n",
              "      <td>0.5</td>\n",
              "      <td>0.5</td>\n",
              "      <td>1.0</td>\n",
              "      <td>0.5</td>\n",
              "      <td>0.5</td>\n",
              "      <td>0.5</td>\n",
              "      <td>0.0</td>\n",
              "      <td>1</td>\n",
              "      <td>0</td>\n",
              "      <td>True</td>\n",
              "    </tr>\n",
              "    <tr>\n",
              "      <th>1249</th>\n",
              "      <td>1.0</td>\n",
              "      <td>0.5</td>\n",
              "      <td>1.0</td>\n",
              "      <td>1.0</td>\n",
              "      <td>1.0</td>\n",
              "      <td>0.5</td>\n",
              "      <td>0.0</td>\n",
              "      <td>0</td>\n",
              "      <td>0</td>\n",
              "      <td>False</td>\n",
              "    </tr>\n",
              "  </tbody>\n",
              "</table>\n",
              "<p>1250 rows × 10 columns</p>\n",
              "</div>\n",
              "    <div class=\"colab-df-buttons\">\n",
              "\n",
              "  <div class=\"colab-df-container\">\n",
              "    <button class=\"colab-df-convert\" onclick=\"convertToInteractive('df-eb3b8790-e58d-48ee-a2fe-6c1c867e3ec0')\"\n",
              "            title=\"Convert this dataframe to an interactive table.\"\n",
              "            style=\"display:none;\">\n",
              "\n",
              "  <svg xmlns=\"http://www.w3.org/2000/svg\" height=\"24px\" viewBox=\"0 -960 960 960\">\n",
              "    <path d=\"M120-120v-720h720v720H120Zm60-500h600v-160H180v160Zm220 220h160v-160H400v160Zm0 220h160v-160H400v160ZM180-400h160v-160H180v160Zm440 0h160v-160H620v160ZM180-180h160v-160H180v160Zm440 0h160v-160H620v160Z\"/>\n",
              "  </svg>\n",
              "    </button>\n",
              "\n",
              "  <style>\n",
              "    .colab-df-container {\n",
              "      display:flex;\n",
              "      gap: 12px;\n",
              "    }\n",
              "\n",
              "    .colab-df-convert {\n",
              "      background-color: #E8F0FE;\n",
              "      border: none;\n",
              "      border-radius: 50%;\n",
              "      cursor: pointer;\n",
              "      display: none;\n",
              "      fill: #1967D2;\n",
              "      height: 32px;\n",
              "      padding: 0 0 0 0;\n",
              "      width: 32px;\n",
              "    }\n",
              "\n",
              "    .colab-df-convert:hover {\n",
              "      background-color: #E2EBFA;\n",
              "      box-shadow: 0px 1px 2px rgba(60, 64, 67, 0.3), 0px 1px 3px 1px rgba(60, 64, 67, 0.15);\n",
              "      fill: #174EA6;\n",
              "    }\n",
              "\n",
              "    .colab-df-buttons div {\n",
              "      margin-bottom: 4px;\n",
              "    }\n",
              "\n",
              "    [theme=dark] .colab-df-convert {\n",
              "      background-color: #3B4455;\n",
              "      fill: #D2E3FC;\n",
              "    }\n",
              "\n",
              "    [theme=dark] .colab-df-convert:hover {\n",
              "      background-color: #434B5C;\n",
              "      box-shadow: 0px 1px 3px 1px rgba(0, 0, 0, 0.15);\n",
              "      filter: drop-shadow(0px 1px 2px rgba(0, 0, 0, 0.3));\n",
              "      fill: #FFFFFF;\n",
              "    }\n",
              "  </style>\n",
              "\n",
              "    <script>\n",
              "      const buttonEl =\n",
              "        document.querySelector('#df-eb3b8790-e58d-48ee-a2fe-6c1c867e3ec0 button.colab-df-convert');\n",
              "      buttonEl.style.display =\n",
              "        google.colab.kernel.accessAllowed ? 'block' : 'none';\n",
              "\n",
              "      async function convertToInteractive(key) {\n",
              "        const element = document.querySelector('#df-eb3b8790-e58d-48ee-a2fe-6c1c867e3ec0');\n",
              "        const dataTable =\n",
              "          await google.colab.kernel.invokeFunction('convertToInteractive',\n",
              "                                                    [key], {});\n",
              "        if (!dataTable) return;\n",
              "\n",
              "        const docLinkHtml = 'Like what you see? Visit the ' +\n",
              "          '<a target=\"_blank\" href=https://colab.research.google.com/notebooks/data_table.ipynb>data table notebook</a>'\n",
              "          + ' to learn more about interactive tables.';\n",
              "        element.innerHTML = '';\n",
              "        dataTable['output_type'] = 'display_data';\n",
              "        await google.colab.output.renderOutput(dataTable, element);\n",
              "        const docLink = document.createElement('div');\n",
              "        docLink.innerHTML = docLinkHtml;\n",
              "        element.appendChild(docLink);\n",
              "      }\n",
              "    </script>\n",
              "  </div>\n",
              "\n",
              "\n",
              "<div id=\"df-06af9b1a-2c55-409b-a3be-75ae01e2332a\">\n",
              "  <button class=\"colab-df-quickchart\" onclick=\"quickchart('df-06af9b1a-2c55-409b-a3be-75ae01e2332a')\"\n",
              "            title=\"Suggest charts\"\n",
              "            style=\"display:none;\">\n",
              "\n",
              "<svg xmlns=\"http://www.w3.org/2000/svg\" height=\"24px\"viewBox=\"0 0 24 24\"\n",
              "     width=\"24px\">\n",
              "    <g>\n",
              "        <path d=\"M19 3H5c-1.1 0-2 .9-2 2v14c0 1.1.9 2 2 2h14c1.1 0 2-.9 2-2V5c0-1.1-.9-2-2-2zM9 17H7v-7h2v7zm4 0h-2V7h2v10zm4 0h-2v-4h2v4z\"/>\n",
              "    </g>\n",
              "</svg>\n",
              "  </button>\n",
              "\n",
              "<style>\n",
              "  .colab-df-quickchart {\n",
              "      --bg-color: #E8F0FE;\n",
              "      --fill-color: #1967D2;\n",
              "      --hover-bg-color: #E2EBFA;\n",
              "      --hover-fill-color: #174EA6;\n",
              "      --disabled-fill-color: #AAA;\n",
              "      --disabled-bg-color: #DDD;\n",
              "  }\n",
              "\n",
              "  [theme=dark] .colab-df-quickchart {\n",
              "      --bg-color: #3B4455;\n",
              "      --fill-color: #D2E3FC;\n",
              "      --hover-bg-color: #434B5C;\n",
              "      --hover-fill-color: #FFFFFF;\n",
              "      --disabled-bg-color: #3B4455;\n",
              "      --disabled-fill-color: #666;\n",
              "  }\n",
              "\n",
              "  .colab-df-quickchart {\n",
              "    background-color: var(--bg-color);\n",
              "    border: none;\n",
              "    border-radius: 50%;\n",
              "    cursor: pointer;\n",
              "    display: none;\n",
              "    fill: var(--fill-color);\n",
              "    height: 32px;\n",
              "    padding: 0;\n",
              "    width: 32px;\n",
              "  }\n",
              "\n",
              "  .colab-df-quickchart:hover {\n",
              "    background-color: var(--hover-bg-color);\n",
              "    box-shadow: 0 1px 2px rgba(60, 64, 67, 0.3), 0 1px 3px 1px rgba(60, 64, 67, 0.15);\n",
              "    fill: var(--button-hover-fill-color);\n",
              "  }\n",
              "\n",
              "  .colab-df-quickchart-complete:disabled,\n",
              "  .colab-df-quickchart-complete:disabled:hover {\n",
              "    background-color: var(--disabled-bg-color);\n",
              "    fill: var(--disabled-fill-color);\n",
              "    box-shadow: none;\n",
              "  }\n",
              "\n",
              "  .colab-df-spinner {\n",
              "    border: 2px solid var(--fill-color);\n",
              "    border-color: transparent;\n",
              "    border-bottom-color: var(--fill-color);\n",
              "    animation:\n",
              "      spin 1s steps(1) infinite;\n",
              "  }\n",
              "\n",
              "  @keyframes spin {\n",
              "    0% {\n",
              "      border-color: transparent;\n",
              "      border-bottom-color: var(--fill-color);\n",
              "      border-left-color: var(--fill-color);\n",
              "    }\n",
              "    20% {\n",
              "      border-color: transparent;\n",
              "      border-left-color: var(--fill-color);\n",
              "      border-top-color: var(--fill-color);\n",
              "    }\n",
              "    30% {\n",
              "      border-color: transparent;\n",
              "      border-left-color: var(--fill-color);\n",
              "      border-top-color: var(--fill-color);\n",
              "      border-right-color: var(--fill-color);\n",
              "    }\n",
              "    40% {\n",
              "      border-color: transparent;\n",
              "      border-right-color: var(--fill-color);\n",
              "      border-top-color: var(--fill-color);\n",
              "    }\n",
              "    60% {\n",
              "      border-color: transparent;\n",
              "      border-right-color: var(--fill-color);\n",
              "    }\n",
              "    80% {\n",
              "      border-color: transparent;\n",
              "      border-right-color: var(--fill-color);\n",
              "      border-bottom-color: var(--fill-color);\n",
              "    }\n",
              "    90% {\n",
              "      border-color: transparent;\n",
              "      border-bottom-color: var(--fill-color);\n",
              "    }\n",
              "  }\n",
              "</style>\n",
              "\n",
              "  <script>\n",
              "    async function quickchart(key) {\n",
              "      const quickchartButtonEl =\n",
              "        document.querySelector('#' + key + ' button');\n",
              "      quickchartButtonEl.disabled = true;  // To prevent multiple clicks.\n",
              "      quickchartButtonEl.classList.add('colab-df-spinner');\n",
              "      try {\n",
              "        const charts = await google.colab.kernel.invokeFunction(\n",
              "            'suggestCharts', [key], {});\n",
              "      } catch (error) {\n",
              "        console.error('Error during call to suggestCharts:', error);\n",
              "      }\n",
              "      quickchartButtonEl.classList.remove('colab-df-spinner');\n",
              "      quickchartButtonEl.classList.add('colab-df-quickchart-complete');\n",
              "    }\n",
              "    (() => {\n",
              "      let quickchartButtonEl =\n",
              "        document.querySelector('#df-06af9b1a-2c55-409b-a3be-75ae01e2332a button');\n",
              "      quickchartButtonEl.style.display =\n",
              "        google.colab.kernel.accessAllowed ? 'block' : 'none';\n",
              "    })();\n",
              "  </script>\n",
              "</div>\n",
              "\n",
              "  <div id=\"id_14d8ca30-f38d-4a7d-98d4-be646fea0d59\">\n",
              "    <style>\n",
              "      .colab-df-generate {\n",
              "        background-color: #E8F0FE;\n",
              "        border: none;\n",
              "        border-radius: 50%;\n",
              "        cursor: pointer;\n",
              "        display: none;\n",
              "        fill: #1967D2;\n",
              "        height: 32px;\n",
              "        padding: 0 0 0 0;\n",
              "        width: 32px;\n",
              "      }\n",
              "\n",
              "      .colab-df-generate:hover {\n",
              "        background-color: #E2EBFA;\n",
              "        box-shadow: 0px 1px 2px rgba(60, 64, 67, 0.3), 0px 1px 3px 1px rgba(60, 64, 67, 0.15);\n",
              "        fill: #174EA6;\n",
              "      }\n",
              "\n",
              "      [theme=dark] .colab-df-generate {\n",
              "        background-color: #3B4455;\n",
              "        fill: #D2E3FC;\n",
              "      }\n",
              "\n",
              "      [theme=dark] .colab-df-generate:hover {\n",
              "        background-color: #434B5C;\n",
              "        box-shadow: 0px 1px 3px 1px rgba(0, 0, 0, 0.15);\n",
              "        filter: drop-shadow(0px 1px 2px rgba(0, 0, 0, 0.3));\n",
              "        fill: #FFFFFF;\n",
              "      }\n",
              "    </style>\n",
              "    <button class=\"colab-df-generate\" onclick=\"generateWithVariable('df')\"\n",
              "            title=\"Generate code using this dataframe.\"\n",
              "            style=\"display:none;\">\n",
              "\n",
              "  <svg xmlns=\"http://www.w3.org/2000/svg\" height=\"24px\"viewBox=\"0 0 24 24\"\n",
              "       width=\"24px\">\n",
              "    <path d=\"M7,19H8.4L18.45,9,17,7.55,7,17.6ZM5,21V16.75L18.45,3.32a2,2,0,0,1,2.83,0l1.4,1.43a1.91,1.91,0,0,1,.58,1.4,1.91,1.91,0,0,1-.58,1.4L9.25,21ZM18.45,9,17,7.55Zm-12,3A5.31,5.31,0,0,0,4.9,8.1,5.31,5.31,0,0,0,1,6.5,5.31,5.31,0,0,0,4.9,4.9,5.31,5.31,0,0,0,6.5,1,5.31,5.31,0,0,0,8.1,4.9,5.31,5.31,0,0,0,12,6.5,5.46,5.46,0,0,0,6.5,12Z\"/>\n",
              "  </svg>\n",
              "    </button>\n",
              "    <script>\n",
              "      (() => {\n",
              "      const buttonEl =\n",
              "        document.querySelector('#id_14d8ca30-f38d-4a7d-98d4-be646fea0d59 button.colab-df-generate');\n",
              "      buttonEl.style.display =\n",
              "        google.colab.kernel.accessAllowed ? 'block' : 'none';\n",
              "\n",
              "      buttonEl.onclick = () => {\n",
              "        google.colab.notebook.generateWithVariable('df');\n",
              "      }\n",
              "      })();\n",
              "    </script>\n",
              "  </div>\n",
              "\n",
              "    </div>\n",
              "  </div>\n"
            ],
            "application/vnd.google.colaboratory.intrinsic+json": {
              "type": "dataframe",
              "variable_name": "df",
              "summary": "{\n  \"name\": \"df\",\n  \"rows\": 1250,\n  \"fields\": [\n    {\n      \"column\": \"empty_server_form_handler\",\n      \"properties\": {\n        \"dtype\": \"number\",\n        \"std\": 0.4559235605169186,\n        \"min\": 0.0,\n        \"max\": 1.0,\n        \"num_unique_values\": 3,\n        \"samples\": [\n          0.0,\n          1.0,\n          0.5\n        ],\n        \"semantic_type\": \"\",\n        \"description\": \"\"\n      }\n    },\n    {\n      \"column\": \"popup_window\",\n      \"properties\": {\n        \"dtype\": \"number\",\n        \"std\": 0.3379543319805263,\n        \"min\": 0.0,\n        \"max\": 1.0,\n        \"num_unique_values\": 3,\n        \"samples\": [\n          0.0,\n          0.5,\n          1.0\n        ],\n        \"semantic_type\": \"\",\n        \"description\": \"\"\n      }\n    },\n    {\n      \"column\": \"https\",\n      \"properties\": {\n        \"dtype\": \"number\",\n        \"std\": 0.4160258429492102,\n        \"min\": 0.0,\n        \"max\": 1.0,\n        \"num_unique_values\": 3,\n        \"samples\": [\n          0.0,\n          0.5,\n          1.0\n        ],\n        \"semantic_type\": \"\",\n        \"description\": \"\"\n      }\n    },\n    {\n      \"column\": \"request_from_other_domain\",\n      \"properties\": {\n        \"dtype\": \"number\",\n        \"std\": 0.40264855729103566,\n        \"min\": 0.0,\n        \"max\": 1.0,\n        \"num_unique_values\": 3,\n        \"samples\": [\n          0.0,\n          0.5,\n          1.0\n        ],\n        \"semantic_type\": \"\",\n        \"description\": \"\"\n      }\n    },\n    {\n      \"column\": \"anchor_from_other_domain\",\n      \"properties\": {\n        \"dtype\": \"number\",\n        \"std\": 0.4694410078890716,\n        \"min\": 0.0,\n        \"max\": 1.0,\n        \"num_unique_values\": 3,\n        \"samples\": [\n          0.0,\n          0.5,\n          1.0\n        ],\n        \"semantic_type\": \"\",\n        \"description\": \"\"\n      }\n    },\n    {\n      \"column\": \"is_popular\",\n      \"properties\": {\n        \"dtype\": \"number\",\n        \"std\": 0.39959467053575015,\n        \"min\": 0.0,\n        \"max\": 1.0,\n        \"num_unique_values\": 3,\n        \"samples\": [\n          0.5,\n          1.0,\n          0.0\n        ],\n        \"semantic_type\": \"\",\n        \"description\": \"\"\n      }\n    },\n    {\n      \"column\": \"long_url\",\n      \"properties\": {\n        \"dtype\": \"number\",\n        \"std\": 0.3750283682891442,\n        \"min\": 0.0,\n        \"max\": 1.0,\n        \"num_unique_values\": 3,\n        \"samples\": [\n          1.0,\n          0.0,\n          0.5\n        ],\n        \"semantic_type\": \"\",\n        \"description\": \"\"\n      }\n    },\n    {\n      \"column\": \"age_of_domain\",\n      \"properties\": {\n        \"dtype\": \"number\",\n        \"std\": 0,\n        \"min\": 0,\n        \"max\": 1,\n        \"num_unique_values\": 2,\n        \"samples\": [\n          0,\n          1\n        ],\n        \"semantic_type\": \"\",\n        \"description\": \"\"\n      }\n    },\n    {\n      \"column\": \"ip_in_url\",\n      \"properties\": {\n        \"dtype\": \"number\",\n        \"std\": 0,\n        \"min\": 0,\n        \"max\": 1,\n        \"num_unique_values\": 2,\n        \"samples\": [\n          0,\n          1\n        ],\n        \"semantic_type\": \"\",\n        \"description\": \"\"\n      }\n    },\n    {\n      \"column\": \"value\",\n      \"properties\": {\n        \"dtype\": \"boolean\",\n        \"num_unique_values\": 2,\n        \"samples\": [\n          false,\n          true\n        ],\n        \"semantic_type\": \"\",\n        \"description\": \"\"\n      }\n    }\n  ]\n}"
            }
          },
          "metadata": {},
          "execution_count": 9
        }
      ],
      "source": [
        "df = dataset_to_df(phishing)\n",
        "df"
      ]
    },
    {
      "cell_type": "code",
      "execution_count": 10,
      "metadata": {
        "id": "6nJJqaKDaAzL"
      },
      "outputs": [],
      "source": [
        "def eval(dataset):\n",
        "    metric = metrics.F1()\n",
        "\n",
        "    model_ADWIN = ensemble.ADWINBaggingClassifier(\n",
        "        model=(\n",
        "            preprocessing.StandardScaler() |\n",
        "            linear_model.LogisticRegression()\n",
        "        ),\n",
        "        n_models=10,\n",
        "        seed=42\n",
        "    )\n",
        "\n",
        "    model_plain = (\n",
        "        preprocessing.StandardScaler() |\n",
        "        linear_model.LogisticRegression()\n",
        "    )\n",
        "\n",
        "    ADWIN_result = evaluate.progressive_val_score(\n",
        "        dataset,\n",
        "        model_ADWIN,\n",
        "        metric,)\n",
        "\n",
        "    print(f\"ADWIN: {ADWIN_result}\")\n",
        "\n",
        "    plain_result = evaluate.progressive_val_score(\n",
        "        dataset,\n",
        "        model_plain,\n",
        "        metric,)\n",
        "\n",
        "    print(f\"plain: {plain_result}\")"
      ]
    },
    {
      "cell_type": "markdown",
      "source": [
        "Ephemeral Novelty"
      ],
      "metadata": {
        "id": "LBB2F_XbpD74"
      }
    },
    {
      "cell_type": "code",
      "execution_count": 11,
      "metadata": {
        "id": "KFGZseBaaAzM",
        "outputId": "e48fc271-e102-43ed-cb20-565f7b51944e",
        "colab": {
          "base_uri": "https://localhost:8080/"
        }
      },
      "outputs": [
        {
          "output_type": "stream",
          "name": "stdout",
          "text": [
            "Pre-Novelty Insertion\n",
            "ADWIN: F1: 87.97%\n",
            "plain: F1: 87.97%\n",
            "\n",
            "Post-Novelty Insertion\n",
            "ADWIN: F1: 77.58%\n",
            "plain: F1: 76.72%\n"
          ]
        }
      ],
      "source": [
        "print(\"Pre-Novelty Insertion\")\n",
        "eval(phishing)\n",
        "\n",
        "print()\n",
        "print(\"Post-Novelty Insertion\")\n",
        "df_ephemeral = ephemeral(df, 'value', 200, 500, lambda x: not x)\n",
        "eval(df_to_dataset(df_ephemeral))"
      ]
    },
    {
      "cell_type": "code",
      "execution_count": 12,
      "metadata": {
        "id": "O717j9yAaAzN"
      },
      "outputs": [],
      "source": [
        "def eval_Ada(dataset):\n",
        "    model_Ada = ensemble.AdaBoostClassifier(\n",
        "        model=(\n",
        "            preprocessing.StandardScaler() |\n",
        "            linear_model.LogisticRegression()\n",
        "        ),\n",
        "        n_models=5,\n",
        "\n",
        "    )\n",
        "\n",
        "    model_plain = (\n",
        "        preprocessing.StandardScaler() |\n",
        "        linear_model.LogisticRegression()\n",
        "    )\n",
        "\n",
        "    metric = metrics.F1()\n",
        "\n",
        "    Ada_result = evaluate.progressive_val_score(\n",
        "        dataset,\n",
        "        model_Ada,\n",
        "        metric,)\n",
        "\n",
        "    print(f\"Ada: {Ada_result}\")\n",
        "\n",
        "\n",
        "    plain_result = evaluate.progressive_val_score(\n",
        "        dataset,\n",
        "        model_plain,\n",
        "        metric,)\n",
        "\n",
        "    print(f\"plain: {plain_result}\")"
      ]
    },
    {
      "cell_type": "code",
      "execution_count": 13,
      "metadata": {
        "id": "lFl5w-ADaAzO",
        "outputId": "929bbb2a-77d1-45a2-8488-6e30187f0522",
        "colab": {
          "base_uri": "https://localhost:8080/"
        }
      },
      "outputs": [
        {
          "output_type": "stream",
          "name": "stdout",
          "text": [
            "Pre-Novelty\n",
            "Ada: F1: 87.04%\n",
            "plain: F1: 87.51%\n",
            "\n",
            "Post-Novelty Insertion\n",
            "Ada: F1: 86.39%\n",
            "plain: F1: 81.05%\n"
          ]
        }
      ],
      "source": [
        "print(\"Pre-Novelty\")\n",
        "eval_Ada(phishing)\n",
        "\n",
        "print()\n",
        "print(\"Post-Novelty Insertion\")\n",
        "eval_Ada(df_to_dataset(df_ephemeral))"
      ]
    },
    {
      "cell_type": "markdown",
      "source": [
        "Persistant Novelty"
      ],
      "metadata": {
        "id": "DecKIm2fpdbf"
      }
    },
    {
      "cell_type": "code",
      "execution_count": 33,
      "metadata": {
        "outputId": "4b250800-e7fb-4d42-cab3-6b061cfbcbb7",
        "colab": {
          "base_uri": "https://localhost:8080/"
        },
        "id": "DYY8HXKTpzeM"
      },
      "outputs": [
        {
          "output_type": "stream",
          "name": "stdout",
          "text": [
            "Pre-Novelty Insertion\n",
            "ADWIN: F1: 87.97%\n",
            "plain: F1: 87.97%\n",
            "\n",
            "Post-Novelty Insertion\n",
            "ADWIN: F1: 76.50%\n",
            "plain: F1: 76.31%\n"
          ]
        }
      ],
      "source": [
        "print(\"Pre-Novelty Insertion\")\n",
        "eval(phishing)\n",
        "\n",
        "print()\n",
        "print(\"Post-Novelty Insertion\")\n",
        "df_persistant = persistant(df, 'value', 600, lambda x: not x) # insert persistant novelty\n",
        "eval(df_to_dataset(df_persistant))"
      ]
    },
    {
      "cell_type": "code",
      "execution_count": 34,
      "metadata": {
        "id": "cXS0SXDMp6L5"
      },
      "outputs": [],
      "source": [
        "def eval_Ada(dataset):\n",
        "    model_Ada = ensemble.AdaBoostClassifier(\n",
        "        model=(\n",
        "            preprocessing.StandardScaler() |\n",
        "            linear_model.LogisticRegression()\n",
        "        ),\n",
        "        n_models=5,\n",
        "\n",
        "    )\n",
        "\n",
        "    model_plain = (\n",
        "        preprocessing.StandardScaler() |\n",
        "        linear_model.LogisticRegression()\n",
        "    )\n",
        "\n",
        "    metric = metrics.F1()\n",
        "\n",
        "    Ada_result = evaluate.progressive_val_score(\n",
        "        dataset,\n",
        "        model_Ada,\n",
        "        metric,)\n",
        "\n",
        "    print(f\"Ada: {Ada_result}\")\n",
        "\n",
        "\n",
        "    plain_result = evaluate.progressive_val_score(\n",
        "        dataset,\n",
        "        model_plain,\n",
        "        metric,)\n",
        "\n",
        "    print(f\"plain: {plain_result}\")"
      ]
    },
    {
      "cell_type": "code",
      "execution_count": 35,
      "metadata": {
        "outputId": "b7633b69-9fb3-40ee-c530-c9f3fb88a045",
        "colab": {
          "base_uri": "https://localhost:8080/"
        },
        "id": "ddkhTdO5qGdc"
      },
      "outputs": [
        {
          "output_type": "stream",
          "name": "stdout",
          "text": [
            "Pre-Novelty\n",
            "Ada: F1: 87.74%\n",
            "plain: F1: 87.86%\n",
            "\n",
            "Post-Novelty Insertion\n",
            "Ada: F1: 86.93%\n",
            "plain: F1: 81.63%\n"
          ]
        }
      ],
      "source": [
        "print(\"Pre-Novelty\")\n",
        "eval_Ada(phishing)\n",
        "\n",
        "print()\n",
        "print(\"Post-Novelty Insertion\")\n",
        "eval_Ada(df_to_dataset(df_persistant))"
      ]
    },
    {
      "cell_type": "markdown",
      "source": [
        "Periodic Novelty"
      ],
      "metadata": {
        "id": "oV2BQg5VdOFc"
      }
    },
    {
      "cell_type": "code",
      "execution_count": 39,
      "metadata": {
        "outputId": "82dd562f-124a-4645-d62d-771ac8ff2182",
        "colab": {
          "base_uri": "https://localhost:8080/"
        },
        "id": "Jt_VNxfIdTla"
      },
      "outputs": [
        {
          "output_type": "stream",
          "name": "stdout",
          "text": [
            "Pre-Novelty Insertion\n",
            "ADWIN: F1: 87.97%\n",
            "plain: F1: 87.97%\n",
            "\n",
            "Post-Novelty Insertion\n",
            "ADWIN: F1: 79.51%\n",
            "plain: F1: 79.66%\n"
          ]
        }
      ],
      "source": [
        "print(\"Pre-Novelty Insertion\")\n",
        "eval(phishing)\n",
        "\n",
        "print()\n",
        "print(\"Post-Novelty Insertion\")\n",
        "df_periodic = periodic(df, 'value', location=200, duration=10, period=100, func=lambda x: not x) # insert periodic\n",
        "\n",
        "eval(df_to_dataset(df_periodic))"
      ]
    },
    {
      "cell_type": "code",
      "execution_count": 40,
      "metadata": {
        "id": "IvOn-Ec1dc2r"
      },
      "outputs": [],
      "source": [
        "def eval_Ada(dataset):\n",
        "    model_Ada = ensemble.AdaBoostClassifier(\n",
        "        model=(\n",
        "            preprocessing.StandardScaler() |\n",
        "            linear_model.LogisticRegression()\n",
        "        ),\n",
        "        n_models=5,\n",
        "\n",
        "    )\n",
        "\n",
        "    model_plain = (\n",
        "        preprocessing.StandardScaler() |\n",
        "        linear_model.LogisticRegression()\n",
        "    )\n",
        "\n",
        "    metric = metrics.F1()\n",
        "\n",
        "    Ada_result = evaluate.progressive_val_score(\n",
        "        dataset,\n",
        "        model_Ada,\n",
        "        metric,)\n",
        "\n",
        "    print(f\"Ada: {Ada_result}\")\n",
        "\n",
        "\n",
        "    plain_result = evaluate.progressive_val_score(\n",
        "        dataset,\n",
        "        model_plain,\n",
        "        metric,)\n",
        "\n",
        "    print(f\"plain: {plain_result}\")"
      ]
    },
    {
      "cell_type": "code",
      "execution_count": 41,
      "metadata": {
        "outputId": "307d00a3-902a-418d-a5ae-95d5004ae2e1",
        "colab": {
          "base_uri": "https://localhost:8080/"
        },
        "id": "ZPkYUih5djM2"
      },
      "outputs": [
        {
          "output_type": "stream",
          "name": "stdout",
          "text": [
            "Pre-Novelty\n",
            "Ada: F1: 87.35%\n",
            "plain: F1: 87.66%\n",
            "\n",
            "Post-Novelty Insertion\n",
            "Ada: F1: 77.87%\n",
            "plain: F1: 78.84%\n"
          ]
        }
      ],
      "source": [
        "print(\"Pre-Novelty\")\n",
        "eval_Ada(phishing)\n",
        "\n",
        "print()\n",
        "print(\"Post-Novelty Insertion\")\n",
        "eval_Ada(df_to_dataset(df_periodic))"
      ]
    },
    {
      "cell_type": "markdown",
      "source": [
        "Degenerate Novelty"
      ],
      "metadata": {
        "id": "1xTQnzsvh_tP"
      }
    },
    {
      "cell_type": "code",
      "execution_count": 68,
      "metadata": {
        "outputId": "80a11824-21c1-4ea6-c65d-231d8d887c1b",
        "colab": {
          "base_uri": "https://localhost:8080/"
        },
        "id": "U_RHPhv0iHxh"
      },
      "outputs": [
        {
          "output_type": "stream",
          "name": "stdout",
          "text": [
            "Pre-Novelty Insertion\n",
            "ADWIN: F1: 87.97%\n",
            "plain: F1: 87.97%\n",
            "\n",
            "Post-Novelty Insertion\n"
          ]
        },
        {
          "output_type": "stream",
          "name": "stderr",
          "text": [
            "/content/novelty.py:70: FutureWarning: Setting an item of incompatible dtype is deprecated and will raise an error in a future version of pandas. Value '[ 424 -192 -444 -345  202  248  363  349  -68 -607   28  119  893 -166\n",
            " -875  897   90  -65  258  652  890  120 -818  148  244  787 -313 -303\n",
            "  923  597 -159  385  655 -524 -937  459   15   83  276 -553  429  518\n",
            "  370  887  340 -218  824 -100   91  452  161  807 -485  337  739  295\n",
            " -140 -910 -635  248 -283  770 -519  -77  899 -288  582 -278 -830  675\n",
            " -877  880  377 -789  160 -306 -568 -655   52  593  900  591  245 -972\n",
            " -667 -687 -900  727  -30 -242  975   97  553 -163 -347 -805  648 -929\n",
            "  516  255   18]' has dtype incompatible with bool, please explicitly cast to a compatible dtype first.\n",
            "  data.loc[start:end, feature_name] = data.loc[start:end, feature_name].apply(func)\n"
          ]
        },
        {
          "output_type": "stream",
          "name": "stdout",
          "text": [
            "ADWIN: F1: 80.40%\n",
            "plain: F1: 78.77%\n"
          ]
        }
      ],
      "source": [
        "print(\"Pre-Novelty Insertion\")\n",
        "eval(phishing)\n",
        "\n",
        "print()\n",
        "print(\"Post-Novelty Insertion\")\n",
        "df_degenerate = degenerate(df, 'value', start=800, duration=100, func=lambda x: x + np.random.randint(-1000, 1000))\n",
        "\n",
        "eval(df_to_dataset(df_degenerate))"
      ]
    },
    {
      "cell_type": "code",
      "execution_count": 69,
      "metadata": {
        "id": "tbmPZev6iKiZ"
      },
      "outputs": [],
      "source": [
        "def eval_Ada(dataset):\n",
        "    model_Ada = ensemble.AdaBoostClassifier(\n",
        "        model=(\n",
        "            preprocessing.StandardScaler() |\n",
        "            linear_model.LogisticRegression()\n",
        "        ),\n",
        "        n_models=5,\n",
        "\n",
        "    )\n",
        "\n",
        "    model_plain = (\n",
        "        preprocessing.StandardScaler() |\n",
        "        linear_model.LogisticRegression()\n",
        "    )\n",
        "\n",
        "    metric = metrics.F1()\n",
        "\n",
        "    Ada_result = evaluate.progressive_val_score(\n",
        "        dataset,\n",
        "        model_Ada,\n",
        "        metric,)\n",
        "\n",
        "    print(f\"Ada: {Ada_result}\")\n",
        "\n",
        "\n",
        "    plain_result = evaluate.progressive_val_score(\n",
        "        dataset,\n",
        "        model_plain,\n",
        "        metric,)\n",
        "\n",
        "    print(f\"plain: {plain_result}\")"
      ]
    },
    {
      "cell_type": "code",
      "execution_count": 70,
      "metadata": {
        "outputId": "f77d2eaa-0917-4b20-d945-3fa4317f6b30",
        "colab": {
          "base_uri": "https://localhost:8080/"
        },
        "id": "r-spDSnCiNhP"
      },
      "outputs": [
        {
          "output_type": "stream",
          "name": "stdout",
          "text": [
            "Pre-Novelty\n",
            "Ada: F1: 87.29%\n",
            "plain: F1: 87.64%\n",
            "\n",
            "Post-Novelty Insertion\n",
            "Ada: F1: 79.44%\n",
            "plain: F1: 78.28%\n"
          ]
        }
      ],
      "source": [
        "print(\"Pre-Novelty\")\n",
        "eval_Ada(phishing)\n",
        "\n",
        "print()\n",
        "print(\"Post-Novelty Insertion\")\n",
        "eval_Ada(df_to_dataset(df_degenerate))"
      ]
    }
  ],
  "metadata": {
    "kernelspec": {
      "display_name": "syng",
      "language": "python",
      "name": "python3"
    },
    "language_info": {
      "codemirror_mode": {
        "name": "ipython",
        "version": 3
      },
      "file_extension": ".py",
      "mimetype": "text/x-python",
      "name": "python",
      "nbconvert_exporter": "python",
      "pygments_lexer": "ipython3",
      "version": "3.12.9"
    },
    "colab": {
      "provenance": []
    }
  },
  "nbformat": 4,
  "nbformat_minor": 0
}